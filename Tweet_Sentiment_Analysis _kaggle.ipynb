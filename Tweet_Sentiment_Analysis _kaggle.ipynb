{
  "nbformat": 4,
  "nbformat_minor": 0,
  "metadata": {
    "colab": {
      "name": "Tweet_Sentiment_Analysis.ipynb",
      "provenance": [],
      "collapsed_sections": []
    },
    "kernelspec": {
      "name": "python3",
      "display_name": "Python 3"
    },
    "language_info": {
      "name": "python"
    }
  },
  "cells": [
    {
      "cell_type": "markdown",
      "metadata": {
        "id": "pD53i-v_ofS6"
      },
      "source": [
        "\n",
        "#**Importing important packages**\n"
      ]
    },
    {
      "cell_type": "code",
      "metadata": {
        "colab": {
          "base_uri": "https://localhost:8080/"
        },
        "id": "MBRr2WuZn5rT",
        "outputId": "14520887-5bd4-4ad1-a5a2-1cd2bab94776"
      },
      "source": [
        "import re\n",
        "import nltk\n",
        "import numpy as np\n",
        "import pandas as pd\n",
        "import seaborn as sns\n",
        "import matplotlib.pyplot as plt\n",
        "import seaborn as sns\n",
        "nltk.download('wordnet')\n",
        "nltk.download('stopwords')\n",
        "from nltk.corpus import stopwords\n",
        "from nltk.stem import WordNetLemmatizer\n",
        "from sklearn.model_selection import train_test_split\n",
        "from sklearn.feature_extraction.text import TfidfVectorizer\n",
        "from sklearn.linear_model import LogisticRegression\n",
        "from sklearn.naive_bayes import MultinomialNB\n",
        "from sklearn.model_selection import GridSearchCV\n",
        "from sklearn.model_selection import RandomizedSearchCV\n",
        "from sklearn.metrics import accuracy_score\n",
        "from sklearn.metrics import f1_score\n",
        "from sklearn.metrics import confusion_matrix, classification_report"
      ],
      "execution_count": 20,
      "outputs": [
        {
          "output_type": "stream",
          "text": [
            "[nltk_data] Downloading package wordnet to /root/nltk_data...\n",
            "[nltk_data]   Package wordnet is already up-to-date!\n",
            "[nltk_data] Downloading package stopwords to /root/nltk_data...\n",
            "[nltk_data]   Package stopwords is already up-to-date!\n"
          ],
          "name": "stdout"
        }
      ]
    },
    {
      "cell_type": "markdown",
      "metadata": {
        "id": "iPRFAIHpv3d_"
      },
      "source": [
        "# **Loading Training Dataset**"
      ]
    },
    {
      "cell_type": "code",
      "metadata": {
        "colab": {
          "base_uri": "https://localhost:8080/",
          "height": 438
        },
        "id": "zFwhxhnBwANH",
        "outputId": "a17302a9-b084-4ff5-9c06-0d151d07cfe9"
      },
      "source": [
        "d_train = pd.read_csv('train.csv')\n",
        "d_train.info()\n",
        "print('\\n-------------------------------------------------------------------------------------------------------\\n')\n",
        "d_train.head()"
      ],
      "execution_count": 2,
      "outputs": [
        {
          "output_type": "stream",
          "text": [
            "<class 'pandas.core.frame.DataFrame'>\n",
            "RangeIndex: 27481 entries, 0 to 27480\n",
            "Data columns (total 4 columns):\n",
            " #   Column         Non-Null Count  Dtype \n",
            "---  ------         --------------  ----- \n",
            " 0   textID         27481 non-null  object\n",
            " 1   text           27480 non-null  object\n",
            " 2   selected_text  27480 non-null  object\n",
            " 3   sentiment      27481 non-null  object\n",
            "dtypes: object(4)\n",
            "memory usage: 858.9+ KB\n",
            "\n",
            "-------------------------------------------------------------------------------------------------------\n",
            "\n"
          ],
          "name": "stdout"
        },
        {
          "output_type": "execute_result",
          "data": {
            "text/html": [
              "<div>\n",
              "<style scoped>\n",
              "    .dataframe tbody tr th:only-of-type {\n",
              "        vertical-align: middle;\n",
              "    }\n",
              "\n",
              "    .dataframe tbody tr th {\n",
              "        vertical-align: top;\n",
              "    }\n",
              "\n",
              "    .dataframe thead th {\n",
              "        text-align: right;\n",
              "    }\n",
              "</style>\n",
              "<table border=\"1\" class=\"dataframe\">\n",
              "  <thead>\n",
              "    <tr style=\"text-align: right;\">\n",
              "      <th></th>\n",
              "      <th>textID</th>\n",
              "      <th>text</th>\n",
              "      <th>selected_text</th>\n",
              "      <th>sentiment</th>\n",
              "    </tr>\n",
              "  </thead>\n",
              "  <tbody>\n",
              "    <tr>\n",
              "      <th>0</th>\n",
              "      <td>cb774db0d1</td>\n",
              "      <td>I`d have responded, if I were going</td>\n",
              "      <td>I`d have responded, if I were going</td>\n",
              "      <td>neutral</td>\n",
              "    </tr>\n",
              "    <tr>\n",
              "      <th>1</th>\n",
              "      <td>549e992a42</td>\n",
              "      <td>Sooo SAD I will miss you here in San Diego!!!</td>\n",
              "      <td>Sooo SAD</td>\n",
              "      <td>negative</td>\n",
              "    </tr>\n",
              "    <tr>\n",
              "      <th>2</th>\n",
              "      <td>088c60f138</td>\n",
              "      <td>my boss is bullying me...</td>\n",
              "      <td>bullying me</td>\n",
              "      <td>negative</td>\n",
              "    </tr>\n",
              "    <tr>\n",
              "      <th>3</th>\n",
              "      <td>9642c003ef</td>\n",
              "      <td>what interview! leave me alone</td>\n",
              "      <td>leave me alone</td>\n",
              "      <td>negative</td>\n",
              "    </tr>\n",
              "    <tr>\n",
              "      <th>4</th>\n",
              "      <td>358bd9e861</td>\n",
              "      <td>Sons of ****, why couldn`t they put them on t...</td>\n",
              "      <td>Sons of ****,</td>\n",
              "      <td>negative</td>\n",
              "    </tr>\n",
              "  </tbody>\n",
              "</table>\n",
              "</div>"
            ],
            "text/plain": [
              "       textID  ... sentiment\n",
              "0  cb774db0d1  ...   neutral\n",
              "1  549e992a42  ...  negative\n",
              "2  088c60f138  ...  negative\n",
              "3  9642c003ef  ...  negative\n",
              "4  358bd9e861  ...  negative\n",
              "\n",
              "[5 rows x 4 columns]"
            ]
          },
          "metadata": {
            "tags": []
          },
          "execution_count": 2
        }
      ]
    },
    {
      "cell_type": "markdown",
      "metadata": {
        "id": "jB-zQMZrwQDg"
      },
      "source": [
        "As per the information about the following dataset, there is one null entry under ' text ' and ' selected_text ' coloumn, we have to remove that entire row."
      ]
    },
    {
      "cell_type": "code",
      "metadata": {
        "colab": {
          "base_uri": "https://localhost:8080/",
          "height": 79
        },
        "id": "68JZm5AMwjKF",
        "outputId": "efba52b5-1cce-4ab8-9c06-16dd2ac9a9cb"
      },
      "source": [
        "#checking for null values in dataset\n",
        "null_row = pd.isnull(d_train['text'])\n",
        "d_train[null_row]"
      ],
      "execution_count": 3,
      "outputs": [
        {
          "output_type": "execute_result",
          "data": {
            "text/html": [
              "<div>\n",
              "<style scoped>\n",
              "    .dataframe tbody tr th:only-of-type {\n",
              "        vertical-align: middle;\n",
              "    }\n",
              "\n",
              "    .dataframe tbody tr th {\n",
              "        vertical-align: top;\n",
              "    }\n",
              "\n",
              "    .dataframe thead th {\n",
              "        text-align: right;\n",
              "    }\n",
              "</style>\n",
              "<table border=\"1\" class=\"dataframe\">\n",
              "  <thead>\n",
              "    <tr style=\"text-align: right;\">\n",
              "      <th></th>\n",
              "      <th>textID</th>\n",
              "      <th>text</th>\n",
              "      <th>selected_text</th>\n",
              "      <th>sentiment</th>\n",
              "    </tr>\n",
              "  </thead>\n",
              "  <tbody>\n",
              "    <tr>\n",
              "      <th>314</th>\n",
              "      <td>fdb77c3752</td>\n",
              "      <td>NaN</td>\n",
              "      <td>NaN</td>\n",
              "      <td>neutral</td>\n",
              "    </tr>\n",
              "  </tbody>\n",
              "</table>\n",
              "</div>"
            ],
            "text/plain": [
              "         textID text selected_text sentiment\n",
              "314  fdb77c3752  NaN           NaN   neutral"
            ]
          },
          "metadata": {
            "tags": []
          },
          "execution_count": 3
        }
      ]
    },
    {
      "cell_type": "markdown",
      "metadata": {
        "id": "X7RJEmLyxBGJ"
      },
      "source": [
        "The row with index no. 314 have null entries."
      ]
    },
    {
      "cell_type": "code",
      "metadata": {
        "colab": {
          "base_uri": "https://localhost:8080/"
        },
        "id": "2Varo9pLw_2t",
        "outputId": "2fc0233b-89e7-4ef3-b984-81138f35a208"
      },
      "source": [
        "#removing the values with null entries\n",
        "d_train.drop([d_train.index[314]] , inplace=True)\n",
        "\n",
        "#again getting info of dataset\n",
        "d_train.info()"
      ],
      "execution_count": 4,
      "outputs": [
        {
          "output_type": "stream",
          "text": [
            "<class 'pandas.core.frame.DataFrame'>\n",
            "Int64Index: 27480 entries, 0 to 27480\n",
            "Data columns (total 4 columns):\n",
            " #   Column         Non-Null Count  Dtype \n",
            "---  ------         --------------  ----- \n",
            " 0   textID         27480 non-null  object\n",
            " 1   text           27480 non-null  object\n",
            " 2   selected_text  27480 non-null  object\n",
            " 3   sentiment      27480 non-null  object\n",
            "dtypes: object(4)\n",
            "memory usage: 1.0+ MB\n"
          ],
          "name": "stdout"
        }
      ]
    },
    {
      "cell_type": "markdown",
      "metadata": {
        "id": "IQyD0j99xTJs"
      },
      "source": [
        "**Hence now we can see that our data has no null entries.**"
      ]
    },
    {
      "cell_type": "code",
      "metadata": {
        "colab": {
          "base_uri": "https://localhost:8080/"
        },
        "id": "7xWJ6VpSxZIg",
        "outputId": "92aa03ba-4dab-4465-8f71-136b26f46167"
      },
      "source": [
        "#storing important columns as tweets and sentiments\n",
        "train_tweets = d_train['text']\n",
        "train_sentiments = d_train['sentiment']\n",
        "\n",
        "#check for imbalance or balance dataset\n",
        "train_sentiments.value_counts()"
      ],
      "execution_count": 5,
      "outputs": [
        {
          "output_type": "execute_result",
          "data": {
            "text/plain": [
              "neutral     11117\n",
              "positive     8582\n",
              "negative     7781\n",
              "Name: sentiment, dtype: int64"
            ]
          },
          "metadata": {
            "tags": []
          },
          "execution_count": 5
        }
      ]
    },
    {
      "cell_type": "markdown",
      "metadata": {
        "id": "9ZaVOWmdyVM8"
      },
      "source": [
        "**Our dataset is also fairly balanced so we dont have to do upsampling or downsampling.**"
      ]
    },
    {
      "cell_type": "markdown",
      "metadata": {
        "id": "IbHHMNwgzoYt"
      },
      "source": [
        "# **Text Preprocessing(TRAINING DATA)**\n",
        "It is the most important process for text classification problems as it decreases the the size of our dataset corpus be removing such words that do not add much value to our system and it also simplifies our data.\n",
        "---\n",
        "**We'll be doing that in following order**:\n",
        "\n",
        "\n",
        "1.   Every word of our data will be converted to lower case.\n",
        "2.   Removing all usernames, for eg. @abc.\n",
        "3.   Removing all the websites and URL's.\n",
        "4.   Replacing all the positive emojis by the word 'positive' and negative emoji with word 'negative'.\n",
        "5.   Removing all the alphnumeric words.\n",
        "6.   Replace all the alphabets of words that occur more than twice to two       times. For eg. 'reallly' to 'really'  \n",
        "7.   Removing stopwords.\n",
        "8.   Removing words of length of smaller than 2. \n",
        "9.   Lemmatization\n",
        "10.   Removing all the punctuation marks.\n"
      ]
    },
    {
      "cell_type": "code",
      "metadata": {
        "id": "wm8kIFvVyqi9"
      },
      "source": [
        "semi_final_train_tweets = []\n",
        "#converting all the words of tweet into lower case \n",
        "for tweet in train_tweets.values :    \n",
        "    tweet = tweet.lower()\n",
        "\n",
        "#removing all websites and URL's\n",
        "    tweet = re.sub(r\"((http://)[^ ]*|(https://)[^ ]*|( www\\.)[^ ]*)\" , '' , tweet) \n",
        "\n",
        "#removing usernames\n",
        "    tweet = re.sub('@[^\\s]+', '' , tweet)\n",
        "\n",
        "#replacing emojis\n",
        "    tweet = re.sub(r'(<3|:\\*)', ' positive ', tweet)\n",
        "    tweet = re.sub(r'(:\\s?D|:-D|x-?D|X-?D)', ' positive ', tweet)\n",
        "    tweet = re.sub(r'(:\\s?\\)|:-\\)|\\(\\s?:|\\(-:|:\\'\\)|:O)', ' positive ', tweet)\n",
        "    tweet = re.sub(r'(;-?\\)|;-?D|\\(-?;|@-\\))', ' positive ', tweet)\n",
        "    tweet = re.sub(r'(:,\\(|:\\'\\(|:\"\\()', ' negative ', tweet) \n",
        "    tweet = re.sub(r'(:\\s?\\(|:-\\(|\\)\\s?:|\\)-:|:-/|:-\\|)', ' negative ', tweet)\n",
        "\n",
        "#removing all the alphanumeric words\n",
        "    tweet = re.sub(\"[^a-zA-Z]\", \" \", tweet)\n",
        "\n",
        "#replacing consecutive letters\n",
        "    tweet = re.sub(r\"(.)\\1\\1+\", r\"\\1\\1\", tweet)\n",
        "\n",
        "    semi_final_train_tweets.append(tweet)\n",
        "            "
      ],
      "execution_count": 6,
      "outputs": []
    },
    {
      "cell_type": "markdown",
      "metadata": {
        "id": "jAXurdTIMqOP"
      },
      "source": [
        "**Now comes the part of removing stopwords.The list of stopwords that NLTK provides has some words which should not be considered as stopwords because removing them sometimes changes the complete meaning of sentence. For eg. 'not' , 'against' etc etc. So we'll process after removing such words from NLTK stopwords list.**\n",
        "---\n",
        "\n"
      ]
    },
    {
      "cell_type": "code",
      "metadata": {
        "id": "V74yT-c_Mllu"
      },
      "source": [
        "stop_w=list(stopwords.words('english'))\n",
        "stop_w.remove('not')\n",
        "stop_w.remove('against')\n",
        "stop_w.remove('doing')\n",
        "stop_w.remove('couldn')\n",
        "stop_w.remove('didn')\n",
        "stop_w.remove('doesn')\n",
        "stop_w.remove('hadn')\n",
        "stop_w.remove('hasn')\n",
        "stop_w.remove('haven')\n",
        "stop_w.remove('isn')\n",
        "stop_w.remove('mightn')\n",
        "stop_w.remove('mustn')\n",
        "stop_w.remove('needn')\n",
        "stop_w.remove('wasn')\n",
        "stop_w.remove('weren')\n",
        "stop_w.remove('won')\n",
        "stop_w.remove('wouldn')\n",
        "\n",
        "#defining lemmatizer\n",
        "lematizer = WordNetLemmatizer()"
      ],
      "execution_count": 7,
      "outputs": []
    },
    {
      "cell_type": "code",
      "metadata": {
        "id": "I_pMho1oNgZY"
      },
      "source": [
        "final_train_tweets = []\n",
        "\n",
        "for tweet in semi_final_train_tweets:\n",
        "    sentence = []   \n",
        "    tweet = tweet.split()\n",
        "    for each_word in tweet:\n",
        "        if len(each_word) >= 2:\n",
        "            if each_word not in stop_w:\n",
        "                each_word = lematizer.lemmatize(each_word)\n",
        "                sentence.append(each_word)\n",
        "        else:\n",
        "            continue\n",
        "             \n",
        "    string = ' '.join(sentence)   \n",
        "    final_train_tweets.append(string) "
      ],
      "execution_count": 8,
      "outputs": []
    },
    {
      "cell_type": "code",
      "metadata": {
        "colab": {
          "base_uri": "https://localhost:8080/",
          "height": 35
        },
        "id": "KtIsZtr4QM6R",
        "outputId": "24cb1e22-f0e0-4fdb-da27-471751e3ba0d"
      },
      "source": [
        "final_train_tweets[5]"
      ],
      "execution_count": 9,
      "outputs": [
        {
          "output_type": "execute_result",
          "data": {
            "application/vnd.google.colaboratory.intrinsic+json": {
              "type": "string"
            },
            "text/plain": [
              "'shameless plugging best ranger forum earth'"
            ]
          },
          "metadata": {
            "tags": []
          },
          "execution_count": 9
        }
      ]
    },
    {
      "cell_type": "markdown",
      "metadata": {
        "id": "by2bG8mAOMkZ"
      },
      "source": [
        "Text preprocessing of been training data has finally been done. We had to follow the same process for test data also."
      ]
    },
    {
      "cell_type": "markdown",
      "metadata": {
        "id": "mtHA3qMMO4rT"
      },
      "source": [
        "# **Loading Test Dataset**"
      ]
    },
    {
      "cell_type": "code",
      "metadata": {
        "colab": {
          "base_uri": "https://localhost:8080/"
        },
        "id": "TMbC4D9MOx44",
        "outputId": "aa3681a6-13ea-4126-dc26-56fd820f14ca"
      },
      "source": [
        "d_test = pd.read_csv('test.csv')\n",
        "d_test.info()\n",
        "print('\\n-------------------------------------------------------------------------------------------------------\\n')\n",
        "d_test.head()\n",
        "test_tweets = d_test['text']\n",
        "test_sentiments = d_test['sentiment']"
      ],
      "execution_count": 10,
      "outputs": [
        {
          "output_type": "stream",
          "text": [
            "<class 'pandas.core.frame.DataFrame'>\n",
            "RangeIndex: 3534 entries, 0 to 3533\n",
            "Data columns (total 3 columns):\n",
            " #   Column     Non-Null Count  Dtype \n",
            "---  ------     --------------  ----- \n",
            " 0   textID     3534 non-null   object\n",
            " 1   text       3534 non-null   object\n",
            " 2   sentiment  3534 non-null   object\n",
            "dtypes: object(3)\n",
            "memory usage: 83.0+ KB\n",
            "\n",
            "-------------------------------------------------------------------------------------------------------\n",
            "\n"
          ],
          "name": "stdout"
        }
      ]
    },
    {
      "cell_type": "markdown",
      "metadata": {
        "id": "29I3IHaYPP-2"
      },
      "source": [
        "Test data has no null values."
      ]
    },
    {
      "cell_type": "markdown",
      "metadata": {
        "id": "4zuUCYFcPnwt"
      },
      "source": [
        "# **Test Preprocessing(TEST DATA)**"
      ]
    },
    {
      "cell_type": "code",
      "metadata": {
        "colab": {
          "base_uri": "https://localhost:8080/",
          "height": 35
        },
        "id": "cZ8tGWewPSNN",
        "outputId": "e29d8054-5e6f-4f67-c1e1-3f013ed78ec5"
      },
      "source": [
        "final_test_tweets = []\n",
        " \n",
        "for tweet in test_tweets.values :    \n",
        "    tweet = tweet.lower()\n",
        "    tweet = re.sub(r\"((http://)[^ ]*|(https://)[^ ]*|( www\\.)[^ ]*)\" , '' , tweet) \n",
        "    tweet = re.sub('@[^\\s]+', '' , tweet)\n",
        "    tweet = re.sub(r'(<3|:\\*)', ' smile ', tweet)\n",
        "    tweet = re.sub(r'(:\\s?D|:-D|x-?D|X-?D)', ' win ', tweet)\n",
        "    tweet = re.sub(r'(:\\s?\\)|:-\\)|\\(\\s?:|\\(-:|:\\'\\)|:O)', ' happy ', tweet)\n",
        "    tweet = re.sub(r'(;-?\\)|;-?D|\\(-?;|@-\\))', ' smile ', tweet)\n",
        "    tweet = re.sub(r'(:,\\(|:\\'\\(|:\"\\()', ' vampire ', tweet) \n",
        "    tweet = re.sub(r'(:\\s?\\(|:-\\(|\\)\\s?:|\\)-:|:-/|:-\\|)', ' sad ', tweet)\n",
        "    tweet = re.sub(\"[^a-zA-Z]\", \" \", tweet)\n",
        "    tweet = re.sub(r\"(.)\\1\\1+\", r\"\\1\\1\", tweet)\n",
        "    sentence = []   \n",
        "    tweet = tweet.split()\n",
        "    for each_word in tweet:\n",
        "        if len(each_word) >= 2:\n",
        "            if each_word not in stop_w:\n",
        "                each_word = lematizer.lemmatize(each_word)\n",
        "                sentence.append(each_word)\n",
        "        else:\n",
        "            continue\n",
        "             \n",
        "    string = ' '.join(sentence)   \n",
        "    final_test_tweets.append(string) \n",
        "\n",
        "final_test_tweets[2]    "
      ],
      "execution_count": 11,
      "outputs": [
        {
          "output_type": "execute_result",
          "data": {
            "application/vnd.google.colaboratory.intrinsic+json": {
              "type": "string"
            },
            "text/plain": [
              "'recession hit veronique branquinho quit company shame'"
            ]
          },
          "metadata": {
            "tags": []
          },
          "execution_count": 11
        }
      ]
    },
    {
      "cell_type": "markdown",
      "metadata": {
        "id": "fGIH9jzTQh7i"
      },
      "source": [
        "# **TF-IDF Vectorisation of Training and Test Data**"
      ]
    },
    {
      "cell_type": "code",
      "metadata": {
        "id": "HhHc1XlTQxkB"
      },
      "source": [
        "#converting train tweets to vectors\n",
        "tf_idf_vect = TfidfVectorizer(ngram_range=(1,2))\n",
        "x_train = tf_idf_vect.fit(final_train_tweets)\n",
        "x_train = tf_idf_vect.transform(final_train_tweets)\n",
        "\n",
        "\n",
        "#converting test tweets to vectors\n",
        "x_test = tf_idf_vect.transform(final_test_tweets)"
      ],
      "execution_count": 12,
      "outputs": []
    },
    {
      "cell_type": "markdown",
      "metadata": {
        "id": "WDI8chdsSIpE"
      },
      "source": [
        "# **Classification using Multinomial Naive Bayes**"
      ]
    },
    {
      "cell_type": "code",
      "metadata": {
        "colab": {
          "base_uri": "https://localhost:8080/"
        },
        "id": "xMyQvmZqSH8s",
        "outputId": "3f15f159-1728-4860-ffd5-1a3f109ca82d"
      },
      "source": [
        "classifier = MultinomialNB()\n",
        "classifier = classifier.fit(x_train , train_sentiments)\n",
        "pred_sentiments = classifier.predict(x_test)\n",
        "accuracy = accuracy_score(pred_sentiments , test_sentiments)\n",
        "print('Accuracy of MultinomialNB is ',accuracy)\n",
        "print('\\n')\n",
        "print(classification_report(test_sentiments,pred_sentiments))"
      ],
      "execution_count": 13,
      "outputs": [
        {
          "output_type": "stream",
          "text": [
            "Accuracy of MultinomialNB is  0.6324278438030561\n",
            "\n",
            "\n",
            "              precision    recall  f1-score   support\n",
            "\n",
            "    negative       0.85      0.37      0.52      1001\n",
            "     neutral       0.53      0.88      0.66      1430\n",
            "    positive       0.82      0.55      0.66      1103\n",
            "\n",
            "    accuracy                           0.63      3534\n",
            "   macro avg       0.73      0.60      0.61      3534\n",
            "weighted avg       0.71      0.63      0.62      3534\n",
            "\n"
          ],
          "name": "stdout"
        }
      ]
    },
    {
      "cell_type": "code",
      "metadata": {
        "colab": {
          "base_uri": "https://localhost:8080/",
          "height": 671
        },
        "id": "1WYwghR6bf2H",
        "outputId": "4c257cfc-fa42-4369-8465-30f1145d5646"
      },
      "source": [
        "#plotting confusion_matrix of MultinomialNB\n",
        "print('Confusion Matrix of MultinomialNB is given below:')\n",
        "cf_matrix = confusion_matrix(test_sentiments,pred_sentiments)\n",
        "#sns.heatmap(cf_matrix/np.sum(cf_matrix) , figsize=(8,8) , annot=True , fmt='0.2%')\n",
        "plt.subplots(figsize=(10,10))\n",
        "sns.set(font_scale=2)\n",
        "sns.heatmap(cf_matrix/np.sum(cf_matrix), annot=True , cmap='BuPu',linecolor='white' , linewidths=3)\n",
        "plt.xlabel(\"Predicted values\", fontdict = {'size':22})\n",
        "plt.ylabel(\"Actual values\"   , fontdict = {'size':22})\n",
        "plt.title (\"Confusion Matrix\", fontdict = {'size':22})"
      ],
      "execution_count": 14,
      "outputs": [
        {
          "output_type": "stream",
          "text": [
            "Confusion Matrix of MultinomialNB is given below:\n"
          ],
          "name": "stdout"
        },
        {
          "output_type": "execute_result",
          "data": {
            "text/plain": [
              "Text(0.5, 1.0, 'Confusion Matrix')"
            ]
          },
          "metadata": {
            "tags": []
          },
          "execution_count": 14
        },
        {
          "output_type": "display_data",
          "data": {
            "image/png": "[encoded data removed]",
            "text/plain": [
              "<Figure size 720x720 with 2 Axes>"
            ]
          },
          "metadata": {
            "tags": [],
            "needs_background": "light"
          }
        }
      ]
    },
    {
      "cell_type": "markdown",
      "metadata": {
        "id": "XpMLRiuJADEI"
      },
      "source": [
        "# **Classification using Logistic Regression**"
      ]
    },
    {
      "cell_type": "code",
      "metadata": {
        "id": "kun1pI7yAQJB",
        "colab": {
          "base_uri": "https://localhost:8080/"
        },
        "outputId": "c0cf74da-ecf3-4725-f490-18b30e6a7227"
      },
      "source": [
        "#we will use GridSearch to find for perfect hyperparameter\n",
        "tuned_parameters = [{'C': [ 10**-4,10**-2,10**0,10**2,10**4 ]}]\n",
        "x = LogisticRegression(penalty='l1', solver=\"liblinear\")\n",
        "classifier = GridSearchCV(x , tuned_parameters , cv =5)\n",
        "#, scoring = ['accuracy' , 'f1'],refit=f1_score\n",
        "classifier.fit(x_train , train_sentiments)"
      ],
      "execution_count": 40,
      "outputs": [
        {
          "output_type": "execute_result",
          "data": {
            "text/plain": [
              "GridSearchCV(cv=5, error_score=nan,\n",
              "             estimator=LogisticRegression(C=1.0, class_weight=None, dual=False,\n",
              "                                          fit_intercept=True,\n",
              "                                          intercept_scaling=1, l1_ratio=None,\n",
              "                                          max_iter=100, multi_class='auto',\n",
              "                                          n_jobs=None, penalty='l1',\n",
              "                                          random_state=None, solver='liblinear',\n",
              "                                          tol=0.0001, verbose=0,\n",
              "                                          warm_start=False),\n",
              "             iid='deprecated', n_jobs=None,\n",
              "             param_grid=[{'C': [0.0001, 0.01, 1, 100, 10000]}],\n",
              "             pre_dispatch='2*n_jobs', refit=True, return_train_score=False,\n",
              "             scoring=None, verbose=0)"
            ]
          },
          "metadata": {
            "tags": []
          },
          "execution_count": 40
        }
      ]
    },
    {
      "cell_type": "code",
      "metadata": {
        "colab": {
          "base_uri": "https://localhost:8080/"
        },
        "id": "1jptqq0yB4Ix",
        "outputId": "65cd23b4-7c76-4900-9a1a-652762b3b794"
      },
      "source": [
        "pred_sentiments = classifier.predict(x_test)\n",
        "accuracy = accuracy_score(pred_sentiments , test_sentiments)\n",
        "print(accuracy) \n",
        "#\n",
        "print('\\n')\n",
        "print(classification_report(test_sentiments,pred_sentiments))"
      ],
      "execution_count": 41,
      "outputs": [
        {
          "output_type": "stream",
          "text": [
            "0.7283531409168081\n",
            "\n",
            "\n",
            "              precision    recall  f1-score   support\n",
            "\n",
            "    negative       0.75      0.68      0.71      1001\n",
            "     neutral       0.68      0.73      0.70      1430\n",
            "    positive       0.79      0.78      0.78      1103\n",
            "\n",
            "    accuracy                           0.73      3534\n",
            "   macro avg       0.74      0.73      0.73      3534\n",
            "weighted avg       0.73      0.73      0.73      3534\n",
            "\n"
          ],
          "name": "stdout"
        }
      ]
    },
    {
      "cell_type": "code",
      "metadata": {
        "colab": {
          "base_uri": "https://localhost:8080/",
          "height": 683
        },
        "id": "L-tSngP_DpCW",
        "outputId": "2650ed74-c60c-4fc6-fc2a-a877b00c619e"
      },
      "source": [
        "#plotting confusion_matrix of Logistic_Regression\n",
        "print('Confusion Matrix of Logistic Regression is given below:')\n",
        "cf_matrix = confusion_matrix(test_sentiments,pred_sentiments)\n",
        "plt.subplots(figsize=(10,10))\n",
        "sns.set(font_scale=2)\n",
        "sns.heatmap(cf_matrix/np.sum(cf_matrix), annot=True , cmap='BuPu',linecolor='green' , linewidths=3)\n",
        "plt.xlabel(\"Predicted values\", fontdict = {'size':22})\n",
        "plt.ylabel(\"Actual values\"   , fontdict = {'size':22})\n",
        "plt.title (\"Confusion Matrix\", fontdict = {'size':22})"
      ],
      "execution_count": 42,
      "outputs": [
        {
          "output_type": "stream",
          "text": [
            "Confusion Matrix of Logistic Regression is given below:\n"
          ],
          "name": "stdout"
        },
        {
          "output_type": "execute_result",
          "data": {
            "text/plain": [
              "Text(0.5, 1.0, 'Confusion Matrix')"
            ]
          },
          "metadata": {
            "tags": []
          },
          "execution_count": 42
        },
        {
          "output_type": "display_data",
          "data": {
            "image/png": "[encoded data removed]",
            "text/plain": [
              "<Figure size 720x720 with 2 Axes>"
            ]
          },
          "metadata": {
            "tags": []
          }
        }
      ]
    },
    {
      "cell_type": "markdown",
      "metadata": {
        "id": "EaooghJfD-ck"
      },
      "source": [
        "# **Accuracy from MultinomialNB model = 63.15%**\n",
        "# **Accuracy from Logistic Regression model = 72.85%** \n",
        "# **Hence we can conclude that Logistic Regression is better model**"
      ]
    }
  ]
}